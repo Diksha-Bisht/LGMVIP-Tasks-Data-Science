{
 "cells": [
  {
   "cell_type": "markdown",
   "id": "787d974b",
   "metadata": {},
   "source": [
    "# Data Science Intern @ LetsGrowMore"
   ]
  },
  {
   "cell_type": "markdown",
   "id": "3a789b1b",
   "metadata": {},
   "source": [
    "\n",
    "**Name:** Diksha Bisht"
   ]
  },
  {
   "cell_type": "markdown",
   "id": "6c51e2f0",
   "metadata": {},
   "source": [
    "**Task-1** (Beginner Level) "
   ]
  },
  {
   "cell_type": "markdown",
   "id": "d5bd7730",
   "metadata": {},
   "source": [
    "1) **Iris Flowers Classification ML Project :**\n",
    "\n",
    "This particular ML project is usually referred to as the “Hello World” of Machine Learning. The iris flowers dataset contains numeric attributes, and it is perfect for beginners to learn about supervised ML algorithms, mainly how to load and handle data. Also, since this is a small dataset, it can easily fit in memory without requiring special transformations or scaling capabilities."
   ]
  },
  {
   "cell_type": "code",
   "execution_count": 1,
   "id": "06e621a5",
   "metadata": {},
   "outputs": [
    {
     "name": "stdout",
     "output_type": "stream",
     "text": [
      "Importing successful!!\n"
     ]
    }
   ],
   "source": [
    "# importing libraries\n",
    "\n",
    "import numpy as np\n",
    "import pandas as pd\n",
    "import matplotlib.pyplot as plt\n",
    "%matplotlib inline \n",
    "from sklearn.model_selection import train_test_split \n",
    "from sklearn.linear_model import LogisticRegression\n",
    "print(\"Importing successful!!\")"
   ]
  },
  {
   "cell_type": "code",
   "execution_count": 2,
   "id": "eb9d1fb3",
   "metadata": {},
   "outputs": [
    {
     "name": "stdout",
     "output_type": "stream",
     "text": [
      "Successfully loaded the data to DataFrame!!\n"
     ]
    }
   ],
   "source": [
    "# loading data set\n",
    "\n",
    "df= pd.read_csv(r'C:\\Users\\91863\\Downloads\\Iris.csv')\n",
    "print(\"Successfully loaded the data to DataFrame!!\")"
   ]
  },
  {
   "cell_type": "code",
   "execution_count": 3,
   "id": "204e0fe0",
   "metadata": {},
   "outputs": [
    {
     "name": "stdout",
     "output_type": "stream",
     "text": [
      "Top 5 rows of the data set are as follows:\n"
     ]
    },
    {
     "data": {
      "text/html": [
       "<div>\n",
       "<style scoped>\n",
       "    .dataframe tbody tr th:only-of-type {\n",
       "        vertical-align: middle;\n",
       "    }\n",
       "\n",
       "    .dataframe tbody tr th {\n",
       "        vertical-align: top;\n",
       "    }\n",
       "\n",
       "    .dataframe thead th {\n",
       "        text-align: right;\n",
       "    }\n",
       "</style>\n",
       "<table border=\"1\" class=\"dataframe\">\n",
       "  <thead>\n",
       "    <tr style=\"text-align: right;\">\n",
       "      <th></th>\n",
       "      <th>SepalLengthCm</th>\n",
       "      <th>SepalWidthCm</th>\n",
       "      <th>PetalLengthCm</th>\n",
       "      <th>PetalWidthCm</th>\n",
       "      <th>Species</th>\n",
       "    </tr>\n",
       "  </thead>\n",
       "  <tbody>\n",
       "    <tr>\n",
       "      <th>0</th>\n",
       "      <td>5.1</td>\n",
       "      <td>3.5</td>\n",
       "      <td>1.4</td>\n",
       "      <td>0.2</td>\n",
       "      <td>Iris-setosa</td>\n",
       "    </tr>\n",
       "    <tr>\n",
       "      <th>1</th>\n",
       "      <td>4.9</td>\n",
       "      <td>3.0</td>\n",
       "      <td>1.4</td>\n",
       "      <td>0.2</td>\n",
       "      <td>Iris-setosa</td>\n",
       "    </tr>\n",
       "    <tr>\n",
       "      <th>2</th>\n",
       "      <td>4.7</td>\n",
       "      <td>3.2</td>\n",
       "      <td>1.3</td>\n",
       "      <td>0.2</td>\n",
       "      <td>Iris-setosa</td>\n",
       "    </tr>\n",
       "    <tr>\n",
       "      <th>3</th>\n",
       "      <td>4.6</td>\n",
       "      <td>3.1</td>\n",
       "      <td>1.5</td>\n",
       "      <td>0.2</td>\n",
       "      <td>Iris-setosa</td>\n",
       "    </tr>\n",
       "    <tr>\n",
       "      <th>4</th>\n",
       "      <td>5.0</td>\n",
       "      <td>3.6</td>\n",
       "      <td>1.4</td>\n",
       "      <td>0.2</td>\n",
       "      <td>Iris-setosa</td>\n",
       "    </tr>\n",
       "  </tbody>\n",
       "</table>\n",
       "</div>"
      ],
      "text/plain": [
       "   SepalLengthCm  SepalWidthCm  PetalLengthCm  PetalWidthCm      Species\n",
       "0            5.1           3.5            1.4           0.2  Iris-setosa\n",
       "1            4.9           3.0            1.4           0.2  Iris-setosa\n",
       "2            4.7           3.2            1.3           0.2  Iris-setosa\n",
       "3            4.6           3.1            1.5           0.2  Iris-setosa\n",
       "4            5.0           3.6            1.4           0.2  Iris-setosa"
      ]
     },
     "execution_count": 3,
     "metadata": {},
     "output_type": "execute_result"
    }
   ],
   "source": [
    "# Droping dublicate column\n",
    "\n",
    "df=df.drop(['Id'], axis=1)\n",
    "\n",
    "# Displaying top 5 rows of Dataset\n",
    "print(\"Top 5 rows of the data set are as follows:\")\n",
    "df.head()"
   ]
  },
  {
   "cell_type": "code",
   "execution_count": 4,
   "id": "1dd7ed34",
   "metadata": {},
   "outputs": [
    {
     "name": "stdout",
     "output_type": "stream",
     "text": [
      "Shape of Dataset = (150, 5)\n"
     ]
    }
   ],
   "source": [
    "# Display shape of the Dataset\n",
    "\n",
    "print(\"Shape of Dataset =\",df.shape)"
   ]
  },
  {
   "cell_type": "code",
   "execution_count": 5,
   "id": "0c37d84e",
   "metadata": {},
   "outputs": [
    {
     "name": "stdout",
     "output_type": "stream",
     "text": [
      "Column Name\tValues\n"
     ]
    },
    {
     "data": {
      "text/plain": [
       "SepalLengthCm    150\n",
       "SepalWidthCm     150\n",
       "PetalLengthCm    150\n",
       "PetalWidthCm     150\n",
       "Species          150\n",
       "dtype: int64"
      ]
     },
     "execution_count": 5,
     "metadata": {},
     "output_type": "execute_result"
    }
   ],
   "source": [
    "# Counting values in each column\n",
    "\n",
    "print(\"Column Name\\tValues\")\n",
    "df.count()"
   ]
  },
  {
   "cell_type": "code",
   "execution_count": 6,
   "id": "ec9c7cb7",
   "metadata": {},
   "outputs": [
    {
     "name": "stdout",
     "output_type": "stream",
     "text": [
      "Column Name\tNo. of null values\n"
     ]
    },
    {
     "data": {
      "text/plain": [
       "SepalLengthCm    0\n",
       "SepalWidthCm     0\n",
       "PetalLengthCm    0\n",
       "PetalWidthCm     0\n",
       "Species          0\n",
       "dtype: int64"
      ]
     },
     "execution_count": 6,
     "metadata": {},
     "output_type": "execute_result"
    }
   ],
   "source": [
    "# Checking for null values\n",
    "\n",
    "print(\"Column Name\\tNo. of null values\")\n",
    "df.isnull().sum()"
   ]
  },
  {
   "cell_type": "code",
   "execution_count": 7,
   "id": "84af7605",
   "metadata": {},
   "outputs": [
    {
     "data": {
      "text/html": [
       "<div>\n",
       "<style scoped>\n",
       "    .dataframe tbody tr th:only-of-type {\n",
       "        vertical-align: middle;\n",
       "    }\n",
       "\n",
       "    .dataframe tbody tr th {\n",
       "        vertical-align: top;\n",
       "    }\n",
       "\n",
       "    .dataframe thead th {\n",
       "        text-align: right;\n",
       "    }\n",
       "</style>\n",
       "<table border=\"1\" class=\"dataframe\">\n",
       "  <thead>\n",
       "    <tr style=\"text-align: right;\">\n",
       "      <th></th>\n",
       "      <th>SepalLengthCm</th>\n",
       "      <th>SepalWidthCm</th>\n",
       "      <th>PetalLengthCm</th>\n",
       "      <th>PetalWidthCm</th>\n",
       "    </tr>\n",
       "  </thead>\n",
       "  <tbody>\n",
       "    <tr>\n",
       "      <th>count</th>\n",
       "      <td>150.000000</td>\n",
       "      <td>150.000000</td>\n",
       "      <td>150.000000</td>\n",
       "      <td>150.000000</td>\n",
       "    </tr>\n",
       "    <tr>\n",
       "      <th>mean</th>\n",
       "      <td>5.843333</td>\n",
       "      <td>3.054000</td>\n",
       "      <td>3.758667</td>\n",
       "      <td>1.198667</td>\n",
       "    </tr>\n",
       "    <tr>\n",
       "      <th>std</th>\n",
       "      <td>0.828066</td>\n",
       "      <td>0.433594</td>\n",
       "      <td>1.764420</td>\n",
       "      <td>0.763161</td>\n",
       "    </tr>\n",
       "    <tr>\n",
       "      <th>min</th>\n",
       "      <td>4.300000</td>\n",
       "      <td>2.000000</td>\n",
       "      <td>1.000000</td>\n",
       "      <td>0.100000</td>\n",
       "    </tr>\n",
       "    <tr>\n",
       "      <th>25%</th>\n",
       "      <td>5.100000</td>\n",
       "      <td>2.800000</td>\n",
       "      <td>1.600000</td>\n",
       "      <td>0.300000</td>\n",
       "    </tr>\n",
       "    <tr>\n",
       "      <th>50%</th>\n",
       "      <td>5.800000</td>\n",
       "      <td>3.000000</td>\n",
       "      <td>4.350000</td>\n",
       "      <td>1.300000</td>\n",
       "    </tr>\n",
       "    <tr>\n",
       "      <th>75%</th>\n",
       "      <td>6.400000</td>\n",
       "      <td>3.300000</td>\n",
       "      <td>5.100000</td>\n",
       "      <td>1.800000</td>\n",
       "    </tr>\n",
       "    <tr>\n",
       "      <th>max</th>\n",
       "      <td>7.900000</td>\n",
       "      <td>4.400000</td>\n",
       "      <td>6.900000</td>\n",
       "      <td>2.500000</td>\n",
       "    </tr>\n",
       "  </tbody>\n",
       "</table>\n",
       "</div>"
      ],
      "text/plain": [
       "       SepalLengthCm  SepalWidthCm  PetalLengthCm  PetalWidthCm\n",
       "count     150.000000    150.000000     150.000000    150.000000\n",
       "mean        5.843333      3.054000       3.758667      1.198667\n",
       "std         0.828066      0.433594       1.764420      0.763161\n",
       "min         4.300000      2.000000       1.000000      0.100000\n",
       "25%         5.100000      2.800000       1.600000      0.300000\n",
       "50%         5.800000      3.000000       4.350000      1.300000\n",
       "75%         6.400000      3.300000       5.100000      1.800000\n",
       "max         7.900000      4.400000       6.900000      2.500000"
      ]
     },
     "execution_count": 7,
     "metadata": {},
     "output_type": "execute_result"
    }
   ],
   "source": [
    "# Describing the data\n",
    "\n",
    "df.describe()"
   ]
  },
  {
   "cell_type": "markdown",
   "id": "49dc120a",
   "metadata": {},
   "source": [
    "**Visualizing data**"
   ]
  },
  {
   "cell_type": "code",
   "execution_count": 8,
   "id": "2a7203a8",
   "metadata": {},
   "outputs": [
    {
     "data": {
      "image/png": "[encoded data removed]",
      "text/plain": [
       "<Figure size 432x288 with 1 Axes>"
      ]
     },
     "metadata": {
      "needs_background": "light"
     },
     "output_type": "display_data"
    }
   ],
   "source": [
    "# Scatter plot Sepal Length VS Sepal Width\n",
    "\n",
    "plot= df[df.Species=='Iris-setosa'].plot.scatter(x='SepalLengthCm', y='SepalWidthCm', color='g', label='Iris-setosa')\n",
    "df[df.Species=='Iris-versicolor'].plot.scatter(x='SepalLengthCm', y='SepalWidthCm', color='r', label='Iris-versicolor', ax= plot)\n",
    "df[df.Species=='Iris-virginica'].plot.scatter(x='SepalLengthCm', y='SepalWidthCm', color='b', label='Iris-virginica', ax= plot)\n",
    "\n",
    "plt.xlabel('Sepal Length (Cm)')\n",
    "plt.ylabel('Sepal Width (Cm)')\n",
    "plt.title('IRIS: Sepal Length VS Sepal Width ')\n",
    "plt.show()"
   ]
  },
  {
   "cell_type": "code",
   "execution_count": 9,
   "id": "af616728",
   "metadata": {},
   "outputs": [
    {
     "data": {
      "image/png": "[encoded data removed]",
      "text/plain": [
       "<Figure size 432x288 with 1 Axes>"
      ]
     },
     "metadata": {
      "needs_background": "light"
     },
     "output_type": "display_data"
    }
   ],
   "source": [
    "# Scatter plot Sepal Length VS Petal Length\n",
    "\n",
    "plot= df[df.Species=='Iris-setosa'].plot.scatter(x='SepalLengthCm', y='PetalLengthCm', color='g', label='Iris-setosa')\n",
    "df[df.Species=='Iris-versicolor'].plot.scatter(x='SepalLengthCm', y='PetalLengthCm', color='r', label='Iris-versicolor', ax= plot)\n",
    "df[df.Species=='Iris-virginica'].plot.scatter(x='SepalLengthCm', y='PetalLengthCm', color='b', label='Iris-virginica', ax= plot)\n",
    "\n",
    "plt.xlabel('Sepal Length (Cm)')\n",
    "plt.ylabel('Petal Length (Cm)')\n",
    "plt.title('IRIS: Sepal Length VS Petal Length ')\n",
    "plt.show()"
   ]
  },
  {
   "cell_type": "code",
   "execution_count": 10,
   "id": "f386e65e",
   "metadata": {},
   "outputs": [
    {
     "data": {
      "image/png": "[encoded data removed]",
      "text/plain": [
       "<Figure size 432x288 with 1 Axes>"
      ]
     },
     "metadata": {
      "needs_background": "light"
     },
     "output_type": "display_data"
    }
   ],
   "source": [
    "# Scatter plot Sepal Length VS Petal Width\n",
    "\n",
    "plot= df[df.Species=='Iris-setosa'].plot.scatter(x='SepalLengthCm', y='PetalWidthCm', color='g', label='Iris-setosa')\n",
    "df[df.Species=='Iris-versicolor'].plot.scatter(x='SepalLengthCm', y='PetalWidthCm', color='r', label='Iris-versicolor', ax= plot)\n",
    "df[df.Species=='Iris-virginica'].plot.scatter(x='SepalLengthCm', y='PetalWidthCm', color='b', label='Iris-virginica', ax= plot)\n",
    "\n",
    "plt.xlabel('Sepal Length (Cm)')\n",
    "plt.ylabel('Petal Width (Cm)')\n",
    "plt.title('IRIS: Sepal Length VS Petal Width ')\n",
    "plt.show()\n"
   ]
  },
  {
   "cell_type": "code",
   "execution_count": 11,
   "id": "9c3cacfe",
   "metadata": {},
   "outputs": [
    {
     "data": {
      "image/png": "[encoded data removed]",
      "text/plain": [
       "<Figure size 432x288 with 1 Axes>"
      ]
     },
     "metadata": {
      "needs_background": "light"
     },
     "output_type": "display_data"
    }
   ],
   "source": [
    "# Scatter plot Petal Length VS Petal Width\n",
    "\n",
    "plot= df[df.Species=='Iris-setosa'].plot.scatter(x='PetalLengthCm', y='PetalWidthCm', color='g', label='Iris-setosa')\n",
    "df[df.Species=='Iris-versicolor'].plot.scatter(x='PetalLengthCm', y='PetalWidthCm', color='r', label='Iris-versicolor', ax= plot)\n",
    "df[df.Species=='Iris-virginica'].plot.scatter(x='PetalLengthCm', y='PetalWidthCm', color='b', label='Iris-virginica', ax= plot)\n",
    "\n",
    "plt.xlabel('Petal Length (Cm)')\n",
    "plt.ylabel('Petal Width (Cm)')\n",
    "plt.title('IRIS: Petal Length VS Petal Width ')\n",
    "plt.show()"
   ]
  },
  {
   "cell_type": "markdown",
   "id": "4a1c90c6",
   "metadata": {},
   "source": [
    "**Training And Testing Model**"
   ]
  },
  {
   "cell_type": "code",
   "execution_count": 12,
   "id": "a3442a09",
   "metadata": {},
   "outputs": [],
   "source": [
    "from sklearn.datasets import load_iris\n",
    "iris=load_iris()\n",
    "x=iris.data\n",
    "y=iris.target"
   ]
  },
  {
   "cell_type": "code",
   "execution_count": 13,
   "id": "d3d6d877",
   "metadata": {},
   "outputs": [
    {
     "name": "stdout",
     "output_type": "stream",
     "text": [
      "Division successful!!\n"
     ]
    }
   ],
   "source": [
    "#Dividng data into test and train\n",
    "\n",
    "x_train,x_test,y_train,y_test=train_test_split(x,y,test_size=0.2)\n",
    "print('Division successful!!')"
   ]
  },
  {
   "cell_type": "code",
   "execution_count": 14,
   "id": "91a11394",
   "metadata": {},
   "outputs": [
    {
     "name": "stdout",
     "output_type": "stream",
     "text": [
      "Process successful!!\n"
     ]
    },
    {
     "name": "stderr",
     "output_type": "stream",
     "text": [
      "C:\\Users\\91863\\anaconda3\\lib\\site-packages\\sklearn\\linear_model\\_logistic.py:763: ConvergenceWarning: lbfgs failed to converge (status=1):\n",
      "STOP: TOTAL NO. of ITERATIONS REACHED LIMIT.\n",
      "\n",
      "Increase the number of iterations (max_iter) or scale the data as shown in:\n",
      "    https://scikit-learn.org/stable/modules/preprocessing.html\n",
      "Please also refer to the documentation for alternative solver options:\n",
      "    https://scikit-learn.org/stable/modules/linear_model.html#logistic-regression\n",
      "  n_iter_i = _check_optimize_result(\n"
     ]
    }
   ],
   "source": [
    "# Using logistic Regression\n",
    "\n",
    "log_reg=LogisticRegression()\n",
    "log_reg.fit(x_train, y_train)\n",
    "print('Process successful!!')"
   ]
  },
  {
   "cell_type": "code",
   "execution_count": 15,
   "id": "3c313152",
   "metadata": {},
   "outputs": [
    {
     "name": "stdout",
     "output_type": "stream",
     "text": [
      "X,Y Accuracy=  0.96\n",
      "\n",
      "Test Accuracy=  0.97\n",
      "\n",
      "Train Accuracy=  0.96\n"
     ]
    }
   ],
   "source": [
    "#Checking accuracy\n",
    "\n",
    "print('X,Y Accuracy= ',round(log_reg.score(x,y), 2))\n",
    "print('\\nTest Accuracy= ',round(log_reg.score(x_test, y_test), 2))\n",
    "print('\\nTrain Accuracy= ',round(log_reg.score(x_train, y_train), 2))\n"
   ]
  },
  {
   "cell_type": "markdown",
   "id": "0cd1412c",
   "metadata": {},
   "source": [
    "**...>>>Thankyou<<<...**"
   ]
  },
  {
   "cell_type": "code",
   "execution_count": null,
   "id": "9798503c",
   "metadata": {},
   "outputs": [],
   "source": []
  },
  {
   "cell_type": "code",
   "execution_count": null,
   "id": "26dc64df",
   "metadata": {},
   "outputs": [],
   "source": []
  }
 ],
 "metadata": {
  "kernelspec": {
   "display_name": "Python 3",
   "language": "python",
   "name": "python3"
  },
  "language_info": {
   "codemirror_mode": {
    "name": "ipython",
    "version": 3
   },
   "file_extension": ".py",
   "mimetype": "text/x-python",
   "name": "python",
   "nbconvert_exporter": "python",
   "pygments_lexer": "ipython3",
   "version": "3.8.8"
  }
 },
 "nbformat": 4,
 "nbformat_minor": 5
}
